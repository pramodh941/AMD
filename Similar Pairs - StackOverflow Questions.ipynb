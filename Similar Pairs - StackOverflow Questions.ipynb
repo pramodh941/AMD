{
  "nbformat": 4,
  "nbformat_minor": 0,
  "metadata": {
    "colab": {
      "name": "Proj2 SS.ipynb",
      "provenance": [],
      "collapsed_sections": []
    },
    "kernelspec": {
      "name": "python3",
      "display_name": "Python 3"
    },
    "accelerator": "GPU"
  },
  "cells": [
    {
      "cell_type": "code",
      "metadata": {
        "id": "NB6P5rZQzE0A",
        "colab": {
          "resources": {
            "http://localhost:8080/nbextensions/google.colab/files.js": {
              "data": "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",
              "ok": true,
              "headers": [
                [
                  "content-type",
                  "application/javascript"
                ]
              ],
              "status": 200,
              "status_text": ""
            }
          },
          "base_uri": "https://localhost:8080/",
          "height": 90
        },
        "outputId": "02f7187f-06dd-4a3b-ff31-c4eae0cfd34f"
      },
      "source": [
        "#Upload your kaggle API json file:\n",
        "from google.colab import files\n",
        "files.upload()"
      ],
      "execution_count": null,
      "outputs": [
        {
          "output_type": "display_data",
          "data": {
            "text/html": [
              "\n",
              "     <input type=\"file\" id=\"files-2251de01-b5fe-4c0a-8680-d59754e1b7f5\" name=\"files[]\" multiple disabled\n",
              "        style=\"border:none\" />\n",
              "     <output id=\"result-2251de01-b5fe-4c0a-8680-d59754e1b7f5\">\n",
              "      Upload widget is only available when the cell has been executed in the\n",
              "      current browser session. Please rerun this cell to enable.\n",
              "      </output>\n",
              "      <script src=\"/nbextensions/google.colab/files.js\"></script> "
            ],
            "text/plain": [
              "<IPython.core.display.HTML object>"
            ]
          },
          "metadata": {
            "tags": []
          }
        },
        {
          "output_type": "stream",
          "text": [
            "Saving kaggle.json to kaggle.json\n"
          ],
          "name": "stdout"
        },
        {
          "output_type": "execute_result",
          "data": {
            "text/plain": [
              "{'kaggle.json': b'{\"username\":\"pramodh941\",\"key\":\"8a743bc4d1f00db1f052ef456a100e62\"}'}"
            ]
          },
          "metadata": {
            "tags": []
          },
          "execution_count": 1
        }
      ]
    },
    {
      "cell_type": "code",
      "metadata": {
        "id": "ZNqtWWZkzcK7"
      },
      "source": [
        "!mkdir -p ~/.kaggle\n",
        "!cp kaggle.json ~/.kaggle/\n",
        "!chmod 600 ~/.kaggle/kaggle.json"
      ],
      "execution_count": null,
      "outputs": []
    },
    {
      "cell_type": "code",
      "metadata": {
        "id": "UFEqMIyVzeoC",
        "colab": {
          "base_uri": "https://localhost:8080/"
        },
        "outputId": "47bc3b81-3213-4803-c5ae-f23d8d42a49e"
      },
      "source": [
        "!kaggle datasets download -d stackoverflow/stacksample"
      ],
      "execution_count": null,
      "outputs": [
        {
          "output_type": "stream",
          "text": [
            "Downloading stacksample.zip to /content\n",
            " 99% 1.10G/1.11G [00:18<00:00, 91.9MB/s]\n",
            "100% 1.11G/1.11G [00:18<00:00, 64.2MB/s]\n"
          ],
          "name": "stdout"
        }
      ]
    },
    {
      "cell_type": "code",
      "metadata": {
        "id": "tPj4yktfzwBM",
        "colab": {
          "base_uri": "https://localhost:8080/"
        },
        "outputId": "37d17bdb-6649-48d0-9658-42ef310d0987"
      },
      "source": [
        "#Define the path and name of the directory to be created:\n",
        "#This is the path where we will extract the dataset:\n",
        "import os\n",
        "path = \"/content/SS\"\n",
        "\n",
        "try:\n",
        "    os.mkdir(path)\n",
        "except OSError:\n",
        "    print (\"Creation of the directory %s failed\" % path)\n",
        "else:\n",
        "    print (\"Successfully created the directory %s \" % path)"
      ],
      "execution_count": null,
      "outputs": [
        {
          "output_type": "stream",
          "text": [
            "Successfully created the directory /content/SS \n"
          ],
          "name": "stdout"
        }
      ]
    },
    {
      "cell_type": "code",
      "metadata": {
        "id": "arRKu02Vz0Br",
        "colab": {
          "base_uri": "https://localhost:8080/"
        },
        "outputId": "7e953886-ad66-48d4-8eb3-4de3e68c19c1"
      },
      "source": [
        "#Extracts the Images from the Zip file downloaded to the path we created above:\n",
        "from zipfile import ZipFile\n",
        "file_name = \"stacksample.zip\"\n",
        "with ZipFile(file_name, 'r') as zip:\n",
        "  zip.extractall(path = \"/content/SS/\")\n",
        "  print('Done')"
      ],
      "execution_count": null,
      "outputs": [
        {
          "output_type": "stream",
          "text": [
            "Done\n"
          ],
          "name": "stdout"
        }
      ]
    },
    {
      "cell_type": "code",
      "metadata": {
        "id": "91nJXue9OWGU",
        "colab": {
          "base_uri": "https://localhost:8080/"
        },
        "outputId": "f72887cf-5bfc-4760-ee4e-c39473b51b6e"
      },
      "source": [
        "#If you face issue loading the necessary java files:\n",
        "!sudo apt-get update"
      ],
      "execution_count": null,
      "outputs": [
        {
          "output_type": "stream",
          "text": [
            "\r0% [Working]\r            \rGet:1 https://cloud.r-project.org/bin/linux/ubuntu bionic-cran40/ InRelease [3,626 B]\n",
            "\r0% [Connecting to archive.ubuntu.com (91.189.88.142)] [Connecting to security.u\r0% [Connecting to archive.ubuntu.com (91.189.88.142)] [Connecting to security.u\r0% [1 InRelease gpgv 3,626 B] [Connecting to archive.ubuntu.com (91.189.88.142)\r                                                                               \rIgn:2 https://developer.download.nvidia.com/compute/cuda/repos/ubuntu1804/x86_64  InRelease\n",
            "\r0% [1 InRelease gpgv 3,626 B] [Connecting to archive.ubuntu.com (91.189.88.142)\r                                                                               \rIgn:3 https://developer.download.nvidia.com/compute/machine-learning/repos/ubuntu1804/x86_64  InRelease\n",
            "\r0% [1 InRelease gpgv 3,626 B] [Connecting to archive.ubuntu.com (91.189.88.142)\r                                                                               \rGet:4 https://developer.download.nvidia.com/compute/cuda/repos/ubuntu1804/x86_64  Release [697 B]\n",
            "\r0% [1 InRelease gpgv 3,626 B] [Connecting to archive.ubuntu.com (91.189.88.142)\r0% [1 InRelease gpgv 3,626 B] [Connecting to archive.ubuntu.com (91.189.88.142)\r                                                                               \rGet:5 https://developer.download.nvidia.com/compute/machine-learning/repos/ubuntu1804/x86_64  Release [564 B]\n",
            "\r0% [1 InRelease gpgv 3,626 B] [Connecting to archive.ubuntu.com (91.189.88.142)\r0% [1 InRelease gpgv 3,626 B] [Connecting to archive.ubuntu.com (91.189.88.142)\r                                                                               \rGet:6 http://security.ubuntu.com/ubuntu bionic-security InRelease [88.7 kB]\n",
            "\r0% [1 InRelease gpgv 3,626 B] [Connecting to archive.ubuntu.com (91.189.88.142)\r                                                                               \rGet:7 https://developer.download.nvidia.com/compute/cuda/repos/ubuntu1804/x86_64  Release.gpg [836 B]\n",
            "\r0% [1 InRelease gpgv 3,626 B] [Waiting for headers] [6 InRelease 14.2 kB/88.7 k\r0% [1 InRelease gpgv 3,626 B] [Waiting for headers] [6 InRelease 14.2 kB/88.7 k\r                                                                               \rGet:8 https://developer.download.nvidia.com/compute/machine-learning/repos/ubuntu1804/x86_64  Release.gpg [833 B]\n",
            "Get:9 https://cloud.r-project.org/bin/linux/ubuntu bionic-cran40/ Packages [40.7 kB]\n",
            "Get:10 http://ppa.launchpad.net/c2d4u.team/c2d4u4.0+/ubuntu bionic InRelease [15.9 kB]\n",
            "Hit:11 http://archive.ubuntu.com/ubuntu bionic InRelease\n",
            "Ign:12 https://developer.download.nvidia.com/compute/cuda/repos/ubuntu1804/x86_64  Packages\n",
            "Get:12 https://developer.download.nvidia.com/compute/cuda/repos/ubuntu1804/x86_64  Packages [506 kB]\n",
            "Get:13 http://archive.ubuntu.com/ubuntu bionic-updates InRelease [88.7 kB]\n",
            "Get:14 https://developer.download.nvidia.com/compute/machine-learning/repos/ubuntu1804/x86_64  Packages [66.1 kB]\n",
            "Get:15 http://ppa.launchpad.net/graphics-drivers/ppa/ubuntu bionic InRelease [21.3 kB]\n",
            "Get:16 http://security.ubuntu.com/ubuntu bionic-security/restricted amd64 Packages [237 kB]\n",
            "Get:17 http://archive.ubuntu.com/ubuntu bionic-backports InRelease [74.6 kB]\n",
            "Get:18 http://security.ubuntu.com/ubuntu bionic-security/main amd64 Packages [1,816 kB]\n",
            "Get:19 http://archive.ubuntu.com/ubuntu bionic-updates/universe amd64 Packages [2,136 kB]\n",
            "Get:20 http://ppa.launchpad.net/c2d4u.team/c2d4u4.0+/ubuntu bionic/main Sources [1,700 kB]\n",
            "Get:21 http://security.ubuntu.com/ubuntu bionic-security/multiverse amd64 Packages [15.3 kB]\n",
            "Get:22 http://security.ubuntu.com/ubuntu bionic-security/universe amd64 Packages [1,372 kB]\n",
            "Get:23 http://archive.ubuntu.com/ubuntu bionic-updates/main amd64 Packages [2,244 kB]\n",
            "Get:24 http://archive.ubuntu.com/ubuntu bionic-updates/restricted amd64 Packages [266 kB]\n",
            "Get:25 http://archive.ubuntu.com/ubuntu bionic-updates/multiverse amd64 Packages [53.8 kB]\n",
            "Get:26 http://ppa.launchpad.net/c2d4u.team/c2d4u4.0+/ubuntu bionic/main amd64 Packages [870 kB]\n",
            "Get:27 http://ppa.launchpad.net/graphics-drivers/ppa/ubuntu bionic/main amd64 Packages [46.5 kB]\n",
            "Fetched 11.7 MB in 3s (3,376 kB/s)\n",
            "Reading package lists... Done\n"
          ],
          "name": "stdout"
        }
      ]
    },
    {
      "cell_type": "code",
      "metadata": {
        "id": "2jZAATCFOZwv",
        "colab": {
          "base_uri": "https://localhost:8080/"
        },
        "outputId": "949e5e75-7bcb-45bf-f637-368391fd2656"
      },
      "source": [
        "!sudo apt-get install"
      ],
      "execution_count": null,
      "outputs": [
        {
          "output_type": "stream",
          "text": [
            "Reading package lists... Done\n",
            "Building dependency tree       \n",
            "Reading state information... Done\n",
            "0 upgraded, 0 newly installed, 0 to remove and 59 not upgraded.\n"
          ],
          "name": "stdout"
        }
      ]
    },
    {
      "cell_type": "code",
      "metadata": {
        "id": "nBKtLRZYOeyU"
      },
      "source": [
        "!apt-get install openjdk-8-jdk-headless -qq > /dev/null\n",
        "!wget -q http://www-eu.apache.org/dist/spark/spark-3.0.1/spark-3.0.1-bin-hadoop2.7.tgz\n",
        "!tar xf spark-3.0.1-bin-hadoop2.7.tgz\n",
        "!pip install -q findspark"
      ],
      "execution_count": null,
      "outputs": []
    },
    {
      "cell_type": "code",
      "metadata": {
        "id": "Icl9DbouhcUf"
      },
      "source": [
        "import os\n",
        "os.environ[\"JAVA_HOME\"] = \"/usr/lib/jvm/java-8-openjdk-amd64\"\n",
        "os.environ[\"SPARK_HOME\"] = \"/content/spark-3.0.1-bin-hadoop2.7\"\n",
        "\n",
        "import findspark\n",
        "findspark.init(\"spark-3.0.1-bin-hadoop2.7\")# SPARK_HOME\n",
        "from pyspark.sql import SparkSession\n",
        "spark = SparkSession.builder.master(\"local[*]\").getOrCreate()\n",
        "\n",
        "sc = spark.sparkContext"
      ],
      "execution_count": null,
      "outputs": []
    },
    {
      "cell_type": "code",
      "metadata": {
        "id": "SXe45YA9fHan"
      },
      "source": [
        "user_schema = 'Id INT,OwnerUserId INT,CreationDate TIMESTAMP,ClosedDate TIMESTAMP,Score INT,Title STRING,Body STRING'\n",
        "df = spark.read.option(\"header\",\"true\").csv('/content/SS/Questions.csv', schema = user_schema, sep=',', dateFormat='MM/dd/yyyy',timestampFormat='yyyy-MM-dd HH:mm:ss.SSSSSS') #.limit(100000)"
      ],
      "execution_count": null,
      "outputs": []
    },
    {
      "cell_type": "code",
      "metadata": {
        "colab": {
          "base_uri": "https://localhost:8080/"
        },
        "id": "OWshs6oCLhm8",
        "outputId": "a287d2b6-2cf3-440f-8720-8c928a97a27f"
      },
      "source": [
        "df.show()"
      ],
      "execution_count": null,
      "outputs": [
        {
          "output_type": "stream",
          "text": [
            "+----+-----------+-------------------+----------+-----+--------------------+--------------------+\n",
            "|  Id|OwnerUserId|       CreationDate|ClosedDate|Score|               Title|                Body|\n",
            "+----+-----------+-------------------+----------+-----+--------------------+--------------------+\n",
            "|  80|         26|2008-08-01 13:57:07|      null|   26|SQLStatement.exec...|\"<p>I've written ...|\n",
            "|null|       null|               null|      null| null|                null|                null|\n",
            "|null|       null|               null|      null| null|                null|                null|\n",
            "|null|       null|               null|      null| null|                null|                null|\n",
            "|null|       null|               null|      null| null|                null|                null|\n",
            "|null|       null|               null|      null| null|                null|                null|\n",
            "|null|       null|               null|      null| null|                null|                null|\n",
            "|null|       null|               null|      null| null|                null|                null|\n",
            "|null|       null|               null|      null| null|                null|                null|\n",
            "|null|       null|               null|      null| null|                null|                null|\n",
            "|null|       null|               null|      null| null|                null|                null|\n",
            "|null|       null|               null|      null| null|                null|                null|\n",
            "|null|       null|               null|      null| null|                null|                null|\n",
            "|null|       null|               null|      null| null|                null|                null|\n",
            "|null|       null|               null|      null| null|                null|                null|\n",
            "|null|       null|               null|      null| null|                null|                null|\n",
            "|null|       null|               null|      null| null|                null|                null|\n",
            "|null|       null|               null|      null| null|                null|                null|\n",
            "|null|       null|               null|      null| null|                null|                null|\n",
            "|null|       null|               null|      null| null|                null|                null|\n",
            "+----+-----------+-------------------+----------+-----+--------------------+--------------------+\n",
            "only showing top 20 rows\n",
            "\n"
          ],
          "name": "stdout"
        }
      ]
    },
    {
      "cell_type": "code",
      "metadata": {
        "id": "id-Bn34OR1i3"
      },
      "source": [
        "columns_to_drop = ['Id','OwnerUserId', 'CreationDate', 'ClosedDate','Score', 'Title']\n",
        "df = df.drop(*columns_to_drop)"
      ],
      "execution_count": null,
      "outputs": []
    },
    {
      "cell_type": "code",
      "metadata": {
        "colab": {
          "base_uri": "https://localhost:8080/"
        },
        "id": "oRVi0pbLSBtA",
        "outputId": "c015476f-2d99-4b9d-9426-0cc0cb3a3b0b"
      },
      "source": [
        "df.show()"
      ],
      "execution_count": null,
      "outputs": [
        {
          "output_type": "stream",
          "text": [
            "+--------------------+\n",
            "|                Body|\n",
            "+--------------------+\n",
            "|\"<p>I've written ...|\n",
            "|                null|\n",
            "|                null|\n",
            "|                null|\n",
            "|                null|\n",
            "|                null|\n",
            "|                null|\n",
            "|                null|\n",
            "|                null|\n",
            "|                null|\n",
            "|                null|\n",
            "|                null|\n",
            "|                null|\n",
            "|                null|\n",
            "|                null|\n",
            "|                null|\n",
            "|                null|\n",
            "|                null|\n",
            "|                null|\n",
            "|                null|\n",
            "+--------------------+\n",
            "only showing top 20 rows\n",
            "\n"
          ],
          "name": "stdout"
        }
      ]
    },
    {
      "cell_type": "code",
      "metadata": {
        "colab": {
          "base_uri": "https://localhost:8080/"
        },
        "id": "3sfdxTgYLQUA",
        "outputId": "e3180320-472b-41c4-e378-9f82a360e371"
      },
      "source": [
        "df.filter(\"Body is null\").count()"
      ],
      "execution_count": null,
      "outputs": [
        {
          "output_type": "execute_result",
          "data": {
            "text/plain": [
              "31745443"
            ]
          },
          "metadata": {
            "tags": []
          },
          "execution_count": 14
        }
      ]
    },
    {
      "cell_type": "code",
      "metadata": {
        "id": "_cfA927LiD-y"
      },
      "source": [
        "df = df.filter(df.Body.isNotNull())"
      ],
      "execution_count": null,
      "outputs": []
    },
    {
      "cell_type": "code",
      "metadata": {
        "colab": {
          "base_uri": "https://localhost:8080/"
        },
        "id": "Ns0mBES_S1u5",
        "outputId": "a2549d44-932a-4d14-8a64-8cdf620c168b"
      },
      "source": [
        "df.count()"
      ],
      "execution_count": null,
      "outputs": [
        {
          "output_type": "execute_result",
          "data": {
            "text/plain": [
              "1404281"
            ]
          },
          "metadata": {
            "tags": []
          },
          "execution_count": 16
        }
      ]
    },
    {
      "cell_type": "code",
      "metadata": {
        "colab": {
          "base_uri": "https://localhost:8080/"
        },
        "id": "hoFH7r8YTgX_",
        "outputId": "613e783c-a430-4694-b2fa-c8a19b016ced"
      },
      "source": [
        "df.show()"
      ],
      "execution_count": null,
      "outputs": [
        {
          "output_type": "stream",
          "text": [
            "+--------------------+\n",
            "|                Body|\n",
            "+--------------------+\n",
            "|\"<p>I've written ...|\n",
            "|\"<p>Are there any...|\n",
            "|<p>Has anyone got...|\n",
            "|<p>This is someth...|\n",
            "|<p>I have a littl...|\n",
            "|<p>I am working o...|\n",
            "|<p>I've been writ...|\n",
            "|<p>I wonder how y...|\n",
            "|<p>I would like t...|\n",
            "|<p>I'm trying to ...|\n",
            "| and haven't seen...|\n",
            "|<p>What's the sim...|\n",
            "|<p>I need to grab...|\n",
            "|<p>I'm looking fo...|\n",
            "|<p>What is the co...|\n",
            "|<p>I am using CCN...|\n",
            "|<p>I am looking t...|\n",
            "|<p>I am using MSB...|\n",
            "|<p>I'm setting up...|\n",
            "|<p>I always creat...|\n",
            "+--------------------+\n",
            "only showing top 20 rows\n",
            "\n"
          ],
          "name": "stdout"
        }
      ]
    },
    {
      "cell_type": "code",
      "metadata": {
        "id": "yzR1B6bPU4k0"
      },
      "source": [
        "from pyspark.sql.functions import col, lower, regexp_replace, split\n",
        "\n",
        "def clean_text(c):\n",
        "  c = lower(c)\n",
        "  c = regexp_replace(c, \"<p>\", \"\")\n",
        "  c = regexp_replace(c, \"</p>\", \"\")\n",
        "  c = regexp_replace(c, \"<code>\", \"\")\n",
        "  c = regexp_replace(c, \"</code>\", \"\")\n",
        "  c = regexp_replace(c, \"<strong>\", \"\")\n",
        "  c = regexp_replace(c, \"</strong>\", \"\")\n",
        "  c = regexp_replace(c, \"'ve\", \"\")\n",
        "  c = regexp_replace(c, \"'m\", \"\")\n",
        "  c = regexp_replace(c, \"'s\", \"\")\n",
        "  c = regexp_replace(c, \"'t\", \"\")\n",
        "  c = regexp_replace(c, \"<[^>]+>\", \"\")\n",
        "  c = regexp_replace(c, \"[^a-zA-Z0-9\\\\s]\", \"\")\n",
        "  c = regexp_replace(c, \"(https?\\://)\\S+\", \"\")\n",
        "  c = regexp_replace(c, \"^rt \", \"\")\n",
        "  return c"
      ],
      "execution_count": null,
      "outputs": []
    },
    {
      "cell_type": "code",
      "metadata": {
        "id": "TwIeAE9c8-oe"
      },
      "source": [
        "clean_text_df = df.select(clean_text(col(\"Body\")).alias(\"Body\"))"
      ],
      "execution_count": null,
      "outputs": []
    },
    {
      "cell_type": "code",
      "metadata": {
        "colab": {
          "base_uri": "https://localhost:8080/"
        },
        "id": "-U-G24zC9LhE",
        "outputId": "2bf91627-4727-483c-de2d-125b8665e2a3"
      },
      "source": [
        "clean_text_df.show(30)"
      ],
      "execution_count": null,
      "outputs": [
        {
          "output_type": "stream",
          "text": [
            "+--------------------+\n",
            "|                Body|\n",
            "+--------------------+\n",
            "|i written a datab...|\n",
            "|are there any rea...|\n",
            "|has anyone got ex...|\n",
            "|this is something...|\n",
            "|i have a little g...|\n",
            "|i am working on a...|\n",
            "|i been writing a ...|\n",
            "|i wonder how you ...|\n",
            "|i would like the ...|\n",
            "|i trying to maint...|\n",
            "| and haven seen u...|\n",
            "|what the simplest...|\n",
            "|i need to grab th...|\n",
            "|i looking for a w...|\n",
            "|what is the corre...|\n",
            "|i am using ccnet ...|\n",
            "|i am looking to a...|\n",
            "|i am using msbuil...|\n",
            "|i setting up a de...|\n",
            "|i always create a...|\n",
            "|if i adding a col...|\n",
            "|getting back into...|\n",
            "|is it possible to...|\n",
            "|postgresql is int...|\n",
            "|i want to get the...|\n",
            "|i currently use a...|\n",
            "|i want to be able...|\n",
            "|how do you disabl...|\n",
            "|what are good lib...|\n",
            "|a quick glance at...|\n",
            "+--------------------+\n",
            "only showing top 30 rows\n",
            "\n"
          ],
          "name": "stdout"
        }
      ]
    },
    {
      "cell_type": "code",
      "metadata": {
        "id": "vvDIeB7fbv3J"
      },
      "source": [
        "from pyspark.sql.functions import split, col\n",
        "array_clean_text_df = clean_text_df.withColumn(\"Body\", split(col(\"Body\"), \"\\s+\").cast(\"array<string>\")) #in cast change as required data type suitable for the methods we use"
      ],
      "execution_count": null,
      "outputs": []
    },
    {
      "cell_type": "code",
      "metadata": {
        "id": "OvyTyNT4U9k2",
        "colab": {
          "base_uri": "https://localhost:8080/"
        },
        "outputId": "f29a4266-7cd9-43ae-d5ed-3cc324c3d46f"
      },
      "source": [
        "array_clean_text_df.dtypes"
      ],
      "execution_count": null,
      "outputs": [
        {
          "output_type": "execute_result",
          "data": {
            "text/plain": [
              "[('Body', 'array<string>')]"
            ]
          },
          "metadata": {
            "tags": []
          },
          "execution_count": 22
        }
      ]
    },
    {
      "cell_type": "code",
      "metadata": {
        "colab": {
          "base_uri": "https://localhost:8080/"
        },
        "id": "dtnc-xTn9y7I",
        "outputId": "2754375b-e118-45fc-96a9-93b0b1ecdcd5"
      },
      "source": [
        "array_clean_text_df.show()"
      ],
      "execution_count": null,
      "outputs": [
        {
          "output_type": "stream",
          "text": [
            "+--------------------+\n",
            "|                Body|\n",
            "+--------------------+\n",
            "|[i, written, a, d...|\n",
            "|[are, there, any,...|\n",
            "|[has, anyone, got...|\n",
            "|[this, is, someth...|\n",
            "|[i, have, a, litt...|\n",
            "|[i, am, working, ...|\n",
            "|[i, been, writing...|\n",
            "|[i, wonder, how, ...|\n",
            "|[i, would, like, ...|\n",
            "|[i, trying, to, m...|\n",
            "|[, and, haven, se...|\n",
            "|[what, the, simpl...|\n",
            "|[i, need, to, gra...|\n",
            "|[i, looking, for,...|\n",
            "|[what, is, the, c...|\n",
            "|[i, am, using, cc...|\n",
            "|[i, am, looking, ...|\n",
            "|[i, am, using, ms...|\n",
            "|[i, setting, up, ...|\n",
            "|[i, always, creat...|\n",
            "+--------------------+\n",
            "only showing top 20 rows\n",
            "\n"
          ],
          "name": "stdout"
        }
      ]
    },
    {
      "cell_type": "code",
      "metadata": {
        "id": "bBl-hDNRbuDE"
      },
      "source": [
        "from pyspark.ml.feature import StopWordsRemover "
      ],
      "execution_count": null,
      "outputs": []
    },
    {
      "cell_type": "code",
      "metadata": {
        "id": "GSpxFe0sZ-pq"
      },
      "source": [
        "stopwordList = [\"really\",\"are\",\"good\",\"anyone\",\"someone\",\"got\",\"something\",\"little\",\"working\",\"wonder\",\"guys\",\"like\",\"seen\",\"way\",\"grab\",\"looking\",\"using\",\"always\",\"haven\",\"allow\",\"doesn\",\"don\",\"need\",\"possible\",\"want\",\"able\",\"quick\",\"glance\",\"useful\",\"simple\",\"note\",\"make\",\"wondering\",\"problem\",\"today\",\"tomorrow\",\"let\",\"getting\",\"following\",\"say\",\"idea\",\"thing\",\"currently\"] \n",
        "stopwordList.extend(StopWordsRemover().getStopWords())\n",
        "#stopwordList = list(set(stopwordList))#optionnal\n",
        "remover = StopWordsRemover(inputCol=\"Body\", outputCol=\"BodyCleaned\" ,stopWords=stopwordList)"
      ],
      "execution_count": null,
      "outputs": []
    },
    {
      "cell_type": "code",
      "metadata": {
        "id": "-QyYkqM0C8FB"
      },
      "source": [
        "CleanedQuestions = remover.transform(array_clean_text_df)"
      ],
      "execution_count": null,
      "outputs": []
    },
    {
      "cell_type": "code",
      "metadata": {
        "colab": {
          "base_uri": "https://localhost:8080/"
        },
        "id": "b1eYu1ssbTxi",
        "outputId": "f096f998-933f-488d-cbe3-37d3f97b111c"
      },
      "source": [
        "CleanedQuestions.show()"
      ],
      "execution_count": null,
      "outputs": [
        {
          "output_type": "stream",
          "text": [
            "+--------------------+--------------------+\n",
            "|                Body|         BodyCleaned|\n",
            "+--------------------+--------------------+\n",
            "|[i, written, a, d...|[written, databas...|\n",
            "|[are, there, any,...|[tutorials, expla...|\n",
            "|[has, anyone, got...|[experience, crea...|\n",
            "|[this, is, someth...|[pseudosolved, ma...|\n",
            "|[i, have, a, litt...|[game, written, c...|\n",
            "|[i, am, working, ...|[collection, clas...|\n",
            "|[i, been, writing...|[writing, web, se...|\n",
            "|[i, wonder, how, ...|[manage, deployme...|\n",
            "|[i, would, like, ...|[version, propert...|\n",
            "|[i, trying, to, m...|[trying, maintain...|\n",
            "|[, and, haven, se...|[, usermachine, h...|\n",
            "|[what, the, simpl...|[simplest, connec...|\n",
            "|[i, need, to, gra...|[base64encoded, r...|\n",
            "|[i, looking, for,...|[delete, file, lo...|\n",
            "|[what, is, the, c...|[correct, get, pr...|\n",
            "|[i, am, using, cc...|[ccnet, sample, p...|\n",
            "|[i, am, looking, ...|[users, control, ...|\n",
            "|[i, am, using, ms...|[msbuild, build, ...|\n",
            "|[i, setting, up, ...|[setting, dedicat...|\n",
            "|[i, always, creat...|[create, new, emp...|\n",
            "+--------------------+--------------------+\n",
            "only showing top 20 rows\n",
            "\n"
          ],
          "name": "stdout"
        }
      ]
    },
    {
      "cell_type": "code",
      "metadata": {
        "id": "Ai5cVWCajviK"
      },
      "source": [
        "from pyspark.sql.functions import concat_ws"
      ],
      "execution_count": null,
      "outputs": []
    },
    {
      "cell_type": "code",
      "metadata": {
        "id": "KBW9EXrpjxVa"
      },
      "source": [
        "concatDF = CleanedQuestions.withColumn(\"BodyCleaned\", concat_ws(\",\",col(\"BodyCleaned\")))"
      ],
      "execution_count": null,
      "outputs": []
    },
    {
      "cell_type": "code",
      "metadata": {
        "colab": {
          "base_uri": "https://localhost:8080/"
        },
        "id": "zvU6uzsukMhK",
        "outputId": "b294dbaf-368d-475d-8f7b-b1e159357d5b"
      },
      "source": [
        "concatDF.show()"
      ],
      "execution_count": null,
      "outputs": [
        {
          "output_type": "stream",
          "text": [
            "+--------------------+--------------------+\n",
            "|                Body|         BodyCleaned|\n",
            "+--------------------+--------------------+\n",
            "|[i, written, a, d...|written,database,...|\n",
            "|[are, there, any,...|tutorials,explain...|\n",
            "|[has, anyone, got...|experience,creati...|\n",
            "|[this, is, someth...|pseudosolved,many...|\n",
            "|[i, have, a, litt...|game,written,c,us...|\n",
            "|[i, am, working, ...|collection,classe...|\n",
            "|[i, been, writing...|writing,web,servi...|\n",
            "|[i, wonder, how, ...|manage,deployment...|\n",
            "|[i, would, like, ...|version,property,...|\n",
            "|[i, trying, to, m...|trying,maintain,s...|\n",
            "|[, and, haven, se...|,usermachine,hive...|\n",
            "|[what, the, simpl...|simplest,connect,...|\n",
            "|[i, need, to, gra...|base64encoded,rep...|\n",
            "|[i, looking, for,...|delete,file,locke...|\n",
            "|[what, is, the, c...|correct,get,proce...|\n",
            "|[i, am, using, cc...|ccnet,sample,proj...|\n",
            "|[i, am, looking, ...|users,control,sub...|\n",
            "|[i, am, using, ms...|msbuild,build,stu...|\n",
            "|[i, setting, up, ...|setting,dedicated...|\n",
            "|[i, always, creat...|create,new,empty,...|\n",
            "+--------------------+--------------------+\n",
            "only showing top 20 rows\n",
            "\n"
          ],
          "name": "stdout"
        }
      ]
    },
    {
      "cell_type": "code",
      "metadata": {
        "id": "cCP2kUCHfqxj"
      },
      "source": [
        "from pyspark.ml.feature import HashingTF, IDF, Tokenizer\n",
        "tokenizer = Tokenizer(inputCol=\"BodyCleaned\", outputCol=\"words\")"
      ],
      "execution_count": null,
      "outputs": []
    },
    {
      "cell_type": "code",
      "metadata": {
        "id": "UQAwy0rUkV4N"
      },
      "source": [
        "wordsData = tokenizer.transform(concatDF)"
      ],
      "execution_count": null,
      "outputs": []
    },
    {
      "cell_type": "code",
      "metadata": {
        "id": "Bs8RDb45piFQ"
      },
      "source": [
        "hashingTF = HashingTF(inputCol=\"words\", outputCol=\"rawFeatures\", numFeatures=8)"
      ],
      "execution_count": null,
      "outputs": []
    },
    {
      "cell_type": "code",
      "metadata": {
        "id": "h_YSqEf6ptTX"
      },
      "source": [
        "featurizedData = hashingTF.transform(wordsData)"
      ],
      "execution_count": null,
      "outputs": []
    },
    {
      "cell_type": "code",
      "metadata": {
        "id": "UC2yZRg-px6q"
      },
      "source": [
        "idf = IDF(inputCol=\"rawFeatures\", outputCol=\"features\")"
      ],
      "execution_count": null,
      "outputs": []
    },
    {
      "cell_type": "code",
      "metadata": {
        "id": "mPZA91pKp4ma"
      },
      "source": [
        "idfModel = idf.fit(featurizedData)"
      ],
      "execution_count": null,
      "outputs": []
    },
    {
      "cell_type": "code",
      "metadata": {
        "id": "MQ-T3x5nqD9A"
      },
      "source": [
        "TfIdfData = idfModel.transform(featurizedData)"
      ],
      "execution_count": null,
      "outputs": []
    },
    {
      "cell_type": "code",
      "metadata": {
        "colab": {
          "base_uri": "https://localhost:8080/"
        },
        "id": "QaKQGfm_qG6s",
        "outputId": "f6a3b916-bcd6-4f4f-fd36-5cd883ecf10c"
      },
      "source": [
        "TfIdfData.show()"
      ],
      "execution_count": null,
      "outputs": [
        {
          "output_type": "stream",
          "text": [
            "+--------------------+--------------------+--------------------+-------------+--------------------+\n",
            "|                Body|         BodyCleaned|               words|  rawFeatures|            features|\n",
            "+--------------------+--------------------+--------------------+-------------+--------------------+\n",
            "|[i, written, a, d...|written,database,...|[written,database...|(8,[4],[1.0])|(8,[4],[1.9793253...|\n",
            "|[are, there, any,...|tutorials,explain...|[tutorials,explai...|(8,[4],[1.0])|(8,[4],[1.9793253...|\n",
            "|[has, anyone, got...|experience,creati...|[experience,creat...|(8,[3],[1.0])|(8,[3],[2.0447428...|\n",
            "|[this, is, someth...|pseudosolved,many...|[pseudosolved,man...|(8,[4],[1.0])|(8,[4],[1.9793253...|\n",
            "|[i, have, a, litt...|game,written,c,us...|[game,written,c,u...|(8,[6],[1.0])|(8,[6],[2.1047877...|\n",
            "|[i, am, working, ...|collection,classe...|[collection,class...|(8,[3],[1.0])|(8,[3],[2.0447428...|\n",
            "|[i, been, writing...|writing,web,servi...|[writing,web,serv...|(8,[5],[1.0])|(8,[5],[2.1133317...|\n",
            "|[i, wonder, how, ...|manage,deployment...|[manage,deploymen...|(8,[2],[1.0])|(8,[2],[2.0886974...|\n",
            "|[i, would, like, ...|version,property,...|[version,property...|(8,[7],[1.0])|(8,[7],[2.1032580...|\n",
            "|[i, trying, to, m...|trying,maintain,s...|[trying,maintain,...|(8,[1],[1.0])|(8,[1],[2.0972668...|\n",
            "|[, and, haven, se...|,usermachine,hive...|[,usermachine,hiv...|(8,[0],[1.0])|(8,[0],[2.1117594...|\n",
            "|[what, the, simpl...|simplest,connect,...|[simplest,connect...|(8,[4],[1.0])|(8,[4],[1.9793253...|\n",
            "|[i, need, to, gra...|base64encoded,rep...|[base64encoded,re...|(8,[4],[1.0])|(8,[4],[1.9793253...|\n",
            "|[i, looking, for,...|delete,file,locke...|[delete,file,lock...|(8,[4],[1.0])|(8,[4],[1.9793253...|\n",
            "|[what, is, the, c...|correct,get,proce...|[correct,get,proc...|(8,[3],[1.0])|(8,[3],[2.0447428...|\n",
            "|[i, am, using, cc...|ccnet,sample,proj...|[ccnet,sample,pro...|(8,[3],[1.0])|(8,[3],[2.0447428...|\n",
            "|[i, am, looking, ...|users,control,sub...|[users,control,su...|(8,[4],[1.0])|(8,[4],[1.9793253...|\n",
            "|[i, am, using, ms...|msbuild,build,stu...|[msbuild,build,st...|(8,[4],[1.0])|(8,[4],[1.9793253...|\n",
            "|[i, setting, up, ...|setting,dedicated...|[setting,dedicate...|(8,[6],[1.0])|(8,[6],[2.1047877...|\n",
            "|[i, always, creat...|create,new,empty,...|[create,new,empty...|(8,[2],[1.0])|(8,[2],[2.0886974...|\n",
            "+--------------------+--------------------+--------------------+-------------+--------------------+\n",
            "only showing top 20 rows\n",
            "\n"
          ],
          "name": "stdout"
        }
      ]
    },
    {
      "cell_type": "code",
      "metadata": {
        "colab": {
          "base_uri": "https://localhost:8080/"
        },
        "id": "WI85j2_eE5-v",
        "outputId": "93e1da0b-cf8b-49fb-99bb-04b7e06f4706"
      },
      "source": [
        "TfIdfData.dtypes"
      ],
      "execution_count": null,
      "outputs": [
        {
          "output_type": "execute_result",
          "data": {
            "text/plain": [
              "[('Body', 'array<string>'),\n",
              " ('BodyCleaned', 'array<string>'),\n",
              " ('rawFeatures', 'vector'),\n",
              " ('features', 'vector')]"
            ]
          },
          "metadata": {
            "tags": []
          },
          "execution_count": 49
        }
      ]
    },
    {
      "cell_type": "code",
      "metadata": {
        "id": "QY3X-AApeGot"
      },
      "source": [
        "from pyspark.ml.feature import MinHashLSH"
      ],
      "execution_count": null,
      "outputs": []
    },
    {
      "cell_type": "code",
      "metadata": {
        "id": "wW1Ph52BeeIB"
      },
      "source": [
        "mh = MinHashLSH(inputCol=\"features\", outputCol=\"hashes\", numHashTables=5)\n",
        "LSHmodel = mh.fit(TfIdfData)"
      ],
      "execution_count": null,
      "outputs": []
    },
    {
      "cell_type": "code",
      "metadata": {
        "id": "sJQ68bW6fEwb"
      },
      "source": [
        "LSH = LSHmodel.transform(TfIdfData)"
      ],
      "execution_count": null,
      "outputs": []
    },
    {
      "cell_type": "code",
      "metadata": {
        "colab": {
          "base_uri": "https://localhost:8080/"
        },
        "id": "VDxwxbWQfdxz",
        "outputId": "801dda9a-85ff-4905-f275-addb307f7f2c"
      },
      "source": [
        "LSH.show()"
      ],
      "execution_count": null,
      "outputs": [
        {
          "output_type": "stream",
          "text": [
            "+--------------------+--------------------+--------------------+-------------+--------------------+--------------------+\n",
            "|                Body|         BodyCleaned|               words|  rawFeatures|            features|              hashes|\n",
            "+--------------------+--------------------+--------------------+-------------+--------------------+--------------------+\n",
            "|[i, written, a, d...|written,database,...|[written,database...|(8,[4],[1.0])|(8,[4],[1.9793253...|[[1.229364012E9],...|\n",
            "|[are, there, any,...|tutorials,explain...|[tutorials,explai...|(8,[4],[1.0])|(8,[4],[1.9793253...|[[1.229364012E9],...|\n",
            "|[has, anyone, got...|experience,creati...|[experience,creat...|(8,[3],[1.0])|(8,[3],[2.0447428...|[[2.2946146E7], [...|\n",
            "|[this, is, someth...|pseudosolved,many...|[pseudosolved,man...|(8,[4],[1.0])|(8,[4],[1.9793253...|[[1.229364012E9],...|\n",
            "|[i, have, a, litt...|game,written,c,us...|[game,written,c,u...|(8,[6],[1.0])|(8,[6],[2.1047877...|[[1.604125001E9],...|\n",
            "|[i, am, working, ...|collection,classe...|[collection,class...|(8,[3],[1.0])|(8,[3],[2.0447428...|[[2.2946146E7], [...|\n",
            "|[i, been, writing...|writing,web,servi...|[writing,web,serv...|(8,[5],[1.0])|(8,[5],[2.1133317...|[[3.97707135E8], ...|\n",
            "|[i, wonder, how, ...|manage,deployment...|[manage,deploymen...|(8,[2],[1.0])|(8,[2],[2.0886974...|[[8.54603023E8], ...|\n",
            "|[i, would, like, ...|version,property,...|[version,property...|(8,[7],[1.0])|(8,[7],[2.1032580...|[[7.72468124E8], ...|\n",
            "|[i, trying, to, m...|trying,maintain,s...|[trying,maintain,...|(8,[1],[1.0])|(8,[1],[2.0972668...|[[1.6862599E9], [...|\n",
            "|[, and, haven, se...|,usermachine,hive...|[,usermachine,hiv...|(8,[0],[1.0])|(8,[0],[2.1117594...|[[4.79842034E8], ...|\n",
            "|[what, the, simpl...|simplest,connect,...|[simplest,connect...|(8,[4],[1.0])|(8,[4],[1.9793253...|[[1.229364012E9],...|\n",
            "|[i, need, to, gra...|base64encoded,rep...|[base64encoded,re...|(8,[4],[1.0])|(8,[4],[1.9793253...|[[1.229364012E9],...|\n",
            "|[i, looking, for,...|delete,file,locke...|[delete,file,lock...|(8,[4],[1.0])|(8,[4],[1.9793253...|[[1.229364012E9],...|\n",
            "|[what, is, the, c...|correct,get,proce...|[correct,get,proc...|(8,[3],[1.0])|(8,[3],[2.0447428...|[[2.2946146E7], [...|\n",
            "|[i, am, using, cc...|ccnet,sample,proj...|[ccnet,sample,pro...|(8,[3],[1.0])|(8,[3],[2.0447428...|[[2.2946146E7], [...|\n",
            "|[i, am, looking, ...|users,control,sub...|[users,control,su...|(8,[4],[1.0])|(8,[4],[1.9793253...|[[1.229364012E9],...|\n",
            "|[i, am, using, ms...|msbuild,build,stu...|[msbuild,build,st...|(8,[4],[1.0])|(8,[4],[1.9793253...|[[1.229364012E9],...|\n",
            "|[i, setting, up, ...|setting,dedicated...|[setting,dedicate...|(8,[6],[1.0])|(8,[6],[2.1047877...|[[1.604125001E9],...|\n",
            "|[i, always, creat...|create,new,empty,...|[create,new,empty...|(8,[2],[1.0])|(8,[2],[2.0886974...|[[8.54603023E8], ...|\n",
            "+--------------------+--------------------+--------------------+-------------+--------------------+--------------------+\n",
            "only showing top 20 rows\n",
            "\n"
          ],
          "name": "stdout"
        }
      ]
    },
    {
      "cell_type": "code",
      "metadata": {
        "id": "PVYpnGk1fmaX"
      },
      "source": [
        "lists = TfIdfData.select('features').take(1)"
      ],
      "execution_count": null,
      "outputs": []
    },
    {
      "cell_type": "code",
      "metadata": {
        "colab": {
          "base_uri": "https://localhost:8080/"
        },
        "id": "mB52kjwegxsg",
        "outputId": "f7724b2b-c7a2-4f95-db93-67e0c362ffc4"
      },
      "source": [
        "lists"
      ],
      "execution_count": null,
      "outputs": [
        {
          "output_type": "execute_result",
          "data": {
            "text/plain": [
              "[Row(features=SparseVector(8, {4: 1.9793}))]"
            ]
          },
          "metadata": {
            "tags": []
          },
          "execution_count": 92
        }
      ]
    },
    {
      "cell_type": "code",
      "metadata": {
        "id": "l8yxoH5AGQ5a"
      },
      "source": [
        "from pyspark.ml.linalg import Vectors\n",
        "key = Vectors.sparse(8,[4],[1.9793])"
      ],
      "execution_count": null,
      "outputs": []
    },
    {
      "cell_type": "code",
      "metadata": {
        "colab": {
          "base_uri": "https://localhost:8080/"
        },
        "id": "MdqVQIwGP1Bw",
        "outputId": "c5fedd3b-4139-4e6a-d0bb-0acb973e317a"
      },
      "source": [
        "LSHmodel.approxNearestNeighbors(TfIdfData, key, 10).show()"
      ],
      "execution_count": null,
      "outputs": [
        {
          "output_type": "stream",
          "text": [
            "+--------------------+--------------------+--------------------+-------------+--------------------+--------------------+-------+\n",
            "|                Body|         BodyCleaned|               words|  rawFeatures|            features|              hashes|distCol|\n",
            "+--------------------+--------------------+--------------------+-------------+--------------------+--------------------+-------+\n",
            "|[i, written, a, d...|written,database,...|[written,database...|(8,[4],[1.0])|(8,[4],[1.9793253...|[[1.229364012E9],...|    0.0|\n",
            "|[are, there, any,...|tutorials,explain...|[tutorials,explai...|(8,[4],[1.0])|(8,[4],[1.9793253...|[[1.229364012E9],...|    0.0|\n",
            "|[this, is, someth...|pseudosolved,many...|[pseudosolved,man...|(8,[4],[1.0])|(8,[4],[1.9793253...|[[1.229364012E9],...|    0.0|\n",
            "|[what, the, simpl...|simplest,connect,...|[simplest,connect...|(8,[4],[1.0])|(8,[4],[1.9793253...|[[1.229364012E9],...|    0.0|\n",
            "|[i, need, to, gra...|base64encoded,rep...|[base64encoded,re...|(8,[4],[1.0])|(8,[4],[1.9793253...|[[1.229364012E9],...|    0.0|\n",
            "|[i, looking, for,...|delete,file,locke...|[delete,file,lock...|(8,[4],[1.0])|(8,[4],[1.9793253...|[[1.229364012E9],...|    0.0|\n",
            "|[i, am, looking, ...|users,control,sub...|[users,control,su...|(8,[4],[1.0])|(8,[4],[1.9793253...|[[1.229364012E9],...|    0.0|\n",
            "|[i, am, using, ms...|msbuild,build,stu...|[msbuild,build,st...|(8,[4],[1.0])|(8,[4],[1.9793253...|[[1.229364012E9],...|    0.0|\n",
            "|[how, do, you, di...|disable,autocompl...|[disable,autocomp...|(8,[4],[1.0])|(8,[4],[1.9793253...|[[1.229364012E9],...|    0.0|\n",
            "|[what, are, good,...|libraries,c,datas...|[libraries,c,data...|(8,[4],[1.0])|(8,[4],[1.9793253...|[[1.229364012E9],...|    0.0|\n",
            "+--------------------+--------------------+--------------------+-------------+--------------------+--------------------+-------+\n",
            "\n"
          ],
          "name": "stdout"
        }
      ]
    },
    {
      "cell_type": "code",
      "metadata": {
        "colab": {
          "base_uri": "https://localhost:8080/"
        },
        "id": "Ve1O-Ze9p8gn",
        "outputId": "5c67f7ca-26f7-4394-8881-c7b319d4fe30"
      },
      "source": [
        "LSH.select('words').take(1)"
      ],
      "execution_count": null,
      "outputs": [
        {
          "output_type": "execute_result",
          "data": {
            "text/plain": [
              "[Row(words=['written,database,generation,script,sql,execute,adobe,air,application'])]"
            ]
          },
          "metadata": {
            "tags": []
          },
          "execution_count": 98
        }
      ]
    }
  ]
}